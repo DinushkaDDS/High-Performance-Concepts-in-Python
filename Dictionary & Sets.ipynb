{
 "cells": [
  {
   "cell_type": "markdown",
   "source": [
    "# **Dictionary and Sets - Properties**\r\n",
    "\r\n",
    "Dictionaries and Sets are great to hold data which dont have a inherent order and unique. Another important characteristic is they should be hashable. Due to this hashable property we are able to access/search items in a list with O(1) time complexity. Also their insertion time is O(1)(depends on the hash function).\r\n",
    "\r\n",
    "But those compelling properties comes with a cost like additional memory footprint, additional complexiy/time cost for other operations etc.\r\n",
    "\r\n",
    "Dictionaries and sets work using hash functions and tables. There we first define a memory area and using the Hash function we identify where we need to put the element(index). (Knowledge about hash collisions and all the other craps related to hasp maps will be needed!)\r\n",
    "\r\n",
    "\r\n",
    "But basically what happens is when we try to insert a value to dictionary, first we calculate the hash and then we mask it. This effectively turn the hash value (very large value) to a index in an array (or put the value in to one of the predefined buckets)\r\n",
    "\r\n",
    "* eg:- \r\n",
    "    - hash value = 28794\r\n",
    "    - num of buckets = 8\r\n",
    "    - then index = 28794 & 0b111 = 2 so the second index.\r\n",
    "\r\n",
    "The mask value of this case is 0b111 since we only have 8 memoy blocks. But if we have more then we need to make the mask resized as well.\r\n",
    "\r\n",
    "Then we need to check the bucket/index is already in use. If thats the case we can check the current value with existing value. If they are same, then no issue. Else we need to find a new place to add.\r\n",
    "\r\n",
    "> Apparently in python instead of storing values in predefined buckets it saves item index in a array. Then use it to access the actual data in the memory. This is a optimization used by python. Because of this property in python dictionary we can keep track of in which order items were added!\r\n",
    "\r\n",
    "To find a new index in case of hash collision, python uses a linear function `probing`. Here we use another mask using the item's higher order hash values. Psuedo implementation is as followed."
   ],
   "metadata": {}
  },
  {
   "cell_type": "code",
   "execution_count": 14,
   "source": [
    "def index_sequence(key, mask=0b111, collision_shift=5):\r\n",
    "    hash_val = hash(key) # This returns a integer.\r\n",
    "    i = hash_val & mask\r\n",
    "    yield i\r\n",
    "\r\n",
    "    # If theres a collision this part will help. (very cleaver IMO!)\r\n",
    "    while True:\r\n",
    "        hash_val >>= collision_shift\r\n",
    "        i = (i * 5 + hash_val + 1) & mask\r\n",
    "        yield i"
   ],
   "outputs": [],
   "metadata": {}
  },
  {
   "cell_type": "markdown",
   "source": [
    "> The while(True) in the code helps to avoid continuous hash collisions for hash values which have same bits for corresponding mask part bits. Also when defining a hash function for data types it is important to design them to reduce hash collisions as much as possible.\r\n",
    "\r\n",
    "We do the exact same thing as above for lookups as well."
   ],
   "metadata": {}
  },
  {
   "cell_type": "code",
   "execution_count": null,
   "source": [],
   "outputs": [],
   "metadata": {}
  },
  {
   "cell_type": "code",
   "execution_count": null,
   "source": [],
   "outputs": [],
   "metadata": {}
  },
  {
   "cell_type": "code",
   "execution_count": null,
   "source": [],
   "outputs": [],
   "metadata": {}
  },
  {
   "cell_type": "code",
   "execution_count": null,
   "source": [],
   "outputs": [],
   "metadata": {}
  },
  {
   "cell_type": "code",
   "execution_count": null,
   "source": [],
   "outputs": [],
   "metadata": {}
  },
  {
   "cell_type": "code",
   "execution_count": null,
   "source": [],
   "outputs": [],
   "metadata": {}
  },
  {
   "cell_type": "code",
   "execution_count": null,
   "source": [],
   "outputs": [],
   "metadata": {}
  },
  {
   "cell_type": "code",
   "execution_count": null,
   "source": [],
   "outputs": [],
   "metadata": {}
  }
 ],
 "metadata": {
  "orig_nbformat": 4,
  "language_info": {
   "name": "python",
   "version": "3.9.7",
   "mimetype": "text/x-python",
   "codemirror_mode": {
    "name": "ipython",
    "version": 3
   },
   "pygments_lexer": "ipython3",
   "nbconvert_exporter": "python",
   "file_extension": ".py"
  },
  "kernelspec": {
   "name": "python3",
   "display_name": "Python 3.9.7 64-bit ('High_Performance_Concepts_in_Python-45__Ubn2': virtualenv)"
  },
  "interpreter": {
   "hash": "7e345707fd4776d029d2a8a839d91a2c00b4b8e78ea36281d84f354477ba90d2"
  }
 },
 "nbformat": 4,
 "nbformat_minor": 2
}