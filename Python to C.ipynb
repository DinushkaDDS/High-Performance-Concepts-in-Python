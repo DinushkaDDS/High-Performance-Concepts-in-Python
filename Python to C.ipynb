{
 "cells": [
  {
   "cell_type": "markdown",
   "source": [
    "# **Compiling Python code to C**\r\n",
    "\r\n",
    "\r\n"
   ],
   "metadata": {}
  },
  {
   "cell_type": "markdown",
   "source": [
    "Other than modifying our code to perform better, easiest way to make it performant is by telling it to run fewer CPU instructions. To help with that python have several methods such as C-based compiling, LLVM(Low Level Virtual Machine) based Numba compiling and built in Pypy JIT (Just In Time) compiler.\r\n",
    "\r\n",
    "But unfortunately each of those methods have downsides. For example, Cython require the developer to write code segments using a hybrid of C and python."
   ],
   "metadata": {}
  },
  {
   "cell_type": "markdown",
   "source": [
    "> Not all programs gain speedups from the compilation process. If your code contains more I/O operations, additional external library calls etc then they wont benefit from compiling. Having code segments which repeats same operations many times, loops etc. gains most speed after compiling.\r\n",
    "\r\n",
    "</br>\r\n",
    "\r\n",
    "### JIT(Just In Time) vs AOT(Ahead of Time) compilers\r\n",
    "\r\n",
    "* By using a AOT compiler, we will be able to create a static library that's specialized for the executed machine. If we have used numpy, scipy etc those will also also get compiled based on the requirement.\r\n",
    "* JIT compilers will compile the required parts at the time of use. Which can be good sometimes and bad at time. But these types are very easy to use and need less manual intervention.\r\n",
    "\r\n",
    "\r\n"
   ],
   "metadata": {}
  },
  {
   "cell_type": "markdown",
   "source": [
    "Since python is a dynamically typed programming language, functions need to be ready for any type of input it would get. This causes python programs to run inefficiently. Therefore we can get additional enhancement for the execution time if we can define the data types."
   ],
   "metadata": {}
  },
  {
   "cell_type": "markdown",
   "source": [
    "## Cython\r\n",
    "\r\n",
    "Cython is a compiler that converts type annotated python in to a compiled python module. This extension then can be used normally using `import` just like any other python module.\r\n",
    "\r\n",
    "For installation we need C compiler (mingw or Visual C) and then the python package `pip install Cython`.\r\n",
    "[More details rgarding the installation](https://cython.readthedocs.io/en/latest/src/quickstart/install.html)\r\n",
    "\r\n",
    "\r\n",
    "Below include a sample usage of Cython for our earlier Juliaset problem.\r\n",
    "\r\n",
    "* juliaset.py --> will do the initialization of input lists and call the calculation part.\r\n",
    "* cythonfn.pyx --> include the CPU bound calculation part which we need to define.\r\n",
    "* setup.py --> this containes the build instructions.\r\n",
    "\r\n",
    "Then after doing the related installations and code changes we can compile the code using the below code.\r\n",
    "\r\n",
    "<center> \r\n",
    "\r\n",
    "`python setup.py build_ext --inplace`\r\n",
    "</center>\r\n",
    "<br>\r\n",
    "\r\n",
    "> **Check the `compiling related` folder for related code files.**\r\n",
    "\r\n",
    "For the juliaset code, without any code optimizations, we were able to reduce the tun time for 3.82 seconds.\r\n",
    "(Cython compiled code ran for 3.82 seconds. Regular python code ran for 5.71 seconds.)\r\n",
    "\r\n",
    "\r\n",
    "> Also if our code does not have a complex setup file, we can use `pyximport` module to do the compilation parts directly. All we have to do is install the package and modify the code slightly as follows.\r\n",
    "\r\n",
    "<br>\r\n",
    "<pre style=\"color:yellow\">\r\n",
    "    import pyximport\r\n",
    "    pyximport.install(language_level=3) \r\n",
    "    # After this line any subsequently imported .pyx file will be automatically compiled.\r\n",
    "    import cythonfn\r\n",
    "    <br>\r\n",
    "    Followed by the usual code...\r\n",
    "</pre>\r\n",
    "\r\n",
    "This also provides the same performance improvement as before and we are not required to write a setup.py file manually.\r\n",
    "\r\n",
    "We can check how our code block would call python rather than C using `cython -a file_name.pyx`. This generates an annotated HTML file with the code segments like below.\r\n",
    "\r\n",
    "<center><image src=\"./img/13.jpg\" width=\"700\"/></center>\r\n",
    "\r\n",
    "In the above annotated HTML, more yellow mean more interaction with python. By looking at those we can understand where we need to focus on improving.\r\n",
    "\r\n",
    "According to our above annotated HTML, almost every line calls back the python kernal. In order to reduce that we need to convert as much as we can to local C objects and then after the numerical part revert back to typical python objects. \r\n",
    "\r\n",
    "> Those annotated local C object will only be understood by Cython, not by Python.\r\n",
    "\r\n",
    "Cython annotated function `calc_juliaset_time_cython_ctypes` is like below.\r\n",
    "\r\n",
    "\r\n",
    "<br>\r\n",
    "<pre style=\"color:yellow\">\r\n",
    "\r\n",
    "    def calculate_juliaset_serial_ctypes(int maxiter, zs, cs):\r\n",
    "        \"\"\"Calculate output list using Julia update rule\"\"\"\r\n",
    "        \r\n",
    "        cdef unsigned int i, n\r\n",
    "        cdef double complex z, c\r\n",
    "\r\n",
    "        output = [0] * len(zs)\r\n",
    "        for i in range(len(zs)):\r\n",
    "            n = 0\r\n",
    "            z = zs[i]\r\n",
    "            c = cs[i]\r\n",
    "            while abs(z) < 2 and n < maxiter:\r\n",
    "                z = z * z + c\r\n",
    "                n += 1\r\n",
    "            output[i] = n\r\n",
    "        return output\r\n",
    "</pre>\r\n",
    "\r\n",
    "Notice the `cdef, unsigned, int, double, complex` declarations. Those are to instruct the Cython compiler to note the data type. Now after we compile the code and check the python kernal interactions as before, output is as follows.\r\n",
    "\r\n",
    "<center><image src=\"./img/14.jpg\" width=\"600\"/></center>\r\n",
    "\r\n",
    "Cleary most lines are now not interacting with python kernal compared to before. Also check the run times of the implementations below.\r\n",
    "\r\n",
    "\r\n",
    "<center><image src=\"./img/15.jpg\" width=\"400\"/></center>\r\n",
    "\r\n",
    "Wew! Huge speedup!\r\n",
    "The reason for this speedup is now most of the code runs in the C level which means C compiler can optimize how the operations need to work.\r\n",
    "\r\n",
    "> **CHECK THE CYTHON DOCUMENTS FOR MORE DETAILS ABOUT USAGES! [CYTHON DOCS](https://cython.readthedocs.io/en/latest/src/quickstart/build.html)**\r\n",
    "\r\n",
    "Also in the above code instead of using `abs(z) < 2` we can use a equivalent math operation `z.real**2 + z.img**2 < 4`. This is much faster because we dont need to calculate the squareroot of each z part inside of the loop. By incorparating this in our code, we can gain more performance improvements."
   ],
   "metadata": {}
  },
  {
   "cell_type": "markdown",
   "source": [
    "Also we can use numpy along with Cython type annotations like below.\r\n",
    "\r\n",
    ">To run this we have to include the numpy directory in the setup function. Check setup.py file. Also lots of pain to go thorugh if you use incompatible package versions. :-("
   ],
   "metadata": {}
  },
  {
   "cell_type": "code",
   "execution_count": null,
   "source": [
    "def calculate_z(int maxiter, double complex[:] zs, double complex[:] cs):\r\n",
    "    \"\"\"Calculate output list using Julia update rule\"\"\"\r\n",
    "\r\n",
    "    cdef unsigned int i, n\r\n",
    "    cdef double complex z, c\r\n",
    "    cdef int[:] output = np.empty(len(zs), dtype=np.int32) # This will allocate a block of memory without initializing (like C)\r\n",
    "\r\n",
    "    for i in range(len(zs)):\r\n",
    "        n = 0\r\n",
    "        z = zs[i]\r\n",
    "        c = cs[i]\r\n",
    "        while n < maxiter and (z.real * z.real + z.imag * z.imag) < 4:\r\n",
    "            z = z * z + c\r\n",
    "            n += 1\r\n",
    "        output[i] = n\r\n",
    "    return output"
   ],
   "outputs": [],
   "metadata": {}
  },
  {
   "cell_type": "markdown",
   "source": [
    "In above, we have defined the types of array elements as well. This helps Cython compiler to do optimizations for deterministic array operations by accessing memory blocks directly (if they are contigious) without calling the python kernal back. The new Cython buffer interface allows compiled programs to access low level access to any object that implements it like numpy or python arrays. Also `the function’s second argument is double complex[:] zs, which means we have a double-precision complex object using the buffer protocol as specified using [], which contains a one-dimensional data block specified by the single colon :`."
   ],
   "metadata": {}
  },
  {
   "cell_type": "markdown",
   "source": [
    "## Python OpenMP\r\n",
    "\r\n",
    "Just as we can use C objects using Cython, we can incorporate OpenMP parrellel processing api to speedup our program. But because of python's GIL, we cant directly use parrellel processing. We need to first disable it and then use Cython functions to improve performance as below."
   ],
   "metadata": {}
  },
  {
   "cell_type": "code",
   "execution_count": null,
   "source": [
    "# cythonfn.pyx\r\n",
    "from cython.parallel import prange\r\n",
    "import numpy as np\r\n",
    "cimport numpy as np\r\n",
    "\r\n",
    "def calculate_z(int maxiter, double complex[:] zs, double complex[:] cs):\r\n",
    "    \"\"\"Calculate output list using Julia update rule\"\"\"\r\n",
    "\r\n",
    "    cdef unsigned int i, length\r\n",
    "    cdef double complex z, c\r\n",
    "    cdef int[:] output = np.empty(len(zs), dtype=np.int32)\r\n",
    "    length = len(zs)\r\n",
    "\r\n",
    "    with nogil: # To disable python GIL\r\n",
    "        for i in prange(length, schedule=\"guided\"):\r\n",
    "            z = zs[i]\r\n",
    "            c = cs[i]\r\n",
    "            output[i] = 0\r\n",
    "            while output[i] < maxiter and (z.real * z.real + z.imag * z.imag) < 4:\r\n",
    "                z = z * z + c\r\n",
    "                output[i] += 1\r\n",
    "    return output"
   ],
   "outputs": [],
   "metadata": {}
  },
  {
   "cell_type": "markdown",
   "source": [
    "In the code instead to range function we have used `prange` which is parallel range function. The schedule parameter defines how the threads should get assigned from `static, dynamic and guided` values. These have different scheduling approaches like dynamic thread allocation, fixed threads-task allocation etc. Choose the configuration that suits your need!\r\n",
    "\r\n",
    "To compile above we need to modify the setup file with below as well."
   ],
   "metadata": {}
  },
  {
   "cell_type": "code",
   "execution_count": null,
   "source": [
    "#setup.py\r\n",
    "from distutils.core import setup\r\n",
    "from distutils.extension import Extension\r\n",
    "import numpy as np\r\n",
    "\r\n",
    "ext_modules = [Extension(\"cythonfn\",\r\n",
    "                        [\"cythonfn.pyx\"],\r\n",
    "                        extra_compile_args=['-fopenmp'],\r\n",
    "                        extra_link_args=['-fopenmp'])]\r\n",
    "\r\n",
    "from Cython.Build import cythonize\r\n",
    "setup(ext_modules=cythonize(ext_modules,\r\n",
    "                            compiler_directives={\"language_level\": \"3\"},),\r\n",
    "                            include_dirs=[np.get_include()])"
   ],
   "outputs": [],
   "metadata": {}
  },
  {
   "cell_type": "code",
   "execution_count": null,
   "source": [],
   "outputs": [],
   "metadata": {}
  },
  {
   "cell_type": "code",
   "execution_count": null,
   "source": [],
   "outputs": [],
   "metadata": {}
  },
  {
   "cell_type": "code",
   "execution_count": null,
   "source": [],
   "outputs": [],
   "metadata": {}
  },
  {
   "cell_type": "code",
   "execution_count": null,
   "source": [],
   "outputs": [],
   "metadata": {}
  },
  {
   "cell_type": "code",
   "execution_count": null,
   "source": [],
   "outputs": [],
   "metadata": {}
  }
 ],
 "metadata": {
  "orig_nbformat": 4,
  "language_info": {
   "name": "python",
   "version": "3.9.7",
   "mimetype": "text/x-python",
   "codemirror_mode": {
    "name": "ipython",
    "version": 3
   },
   "pygments_lexer": "ipython3",
   "nbconvert_exporter": "python",
   "file_extension": ".py"
  },
  "kernelspec": {
   "name": "python3",
   "display_name": "Python 3.9.7 64-bit ('High_Performance_Concepts_in_Python-45__Ubn2': virtualenv)"
  },
  "interpreter": {
   "hash": "7e345707fd4776d029d2a8a839d91a2c00b4b8e78ea36281d84f354477ba90d2"
  }
 },
 "nbformat": 4,
 "nbformat_minor": 2
}