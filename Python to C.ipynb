{
 "cells": [
  {
   "cell_type": "markdown",
   "source": [
    "# **Compiling Python code to C**\r\n",
    "\r\n",
    "\r\n"
   ],
   "metadata": {}
  },
  {
   "cell_type": "markdown",
   "source": [
    "Other than modifying our code to perform better, easiest way to make it performant is by telling it to run fewer CPU instructions. To help with that python have several methods such as C-based compiling, LLVM(Low Level Virtual Machine) based Numba compiling and built in Pypy JIT (Just In Time) compiler.\r\n",
    "\r\n",
    "But unfortunately each of those methods have downsides. For example, Cython require the developer to write code segments using a hybrid of C and python."
   ],
   "metadata": {}
  },
  {
   "cell_type": "markdown",
   "source": [
    "> Not all programs gain speedups from the compilation process. If your code contains more I/O operations, additional external library calls etc then they wont benefit from compiling. Having code segments which repeats same operations many times, loops etc. gains most speed after compiling.\r\n",
    "\r\n",
    "</br>\r\n",
    "\r\n",
    "### JIT(Just In Time) vs AOT(Ahead of Time) compilers\r\n",
    "\r\n",
    "* By using a AOT compiler, we will be able to create a static library that's specialized for the executed machine. If we have used numpy, scipy etc those will also also get compiled based on the requirement.\r\n",
    "* JIT compilers will compile the required parts at the time of use. Which can be good sometimes and bad at time. But these types are very easy to use and need less manual intervention.\r\n",
    "\r\n",
    "\r\n"
   ],
   "metadata": {}
  },
  {
   "cell_type": "markdown",
   "source": [
    "Since python is a dynamically typed programming language, functions need to be ready for any type of input it would get. This causes python programs to run inefficiently. Therefore we can get additional enhancement for the execution time if we can define the data types."
   ],
   "metadata": {}
  },
  {
   "cell_type": "markdown",
   "source": [
    "## Cython\r\n",
    "\r\n",
    "Cython is a compiler that converts type annotated python in to a compiled python module. This extension then can be used normally using `import` just like any other python module.\r\n",
    "\r\n",
    "For installation we need C compiler (mingw or Visual C) and then the python package `pip install Cython`.\r\n",
    "[More details rgarding the installation](https://cython.readthedocs.io/en/latest/src/quickstart/install.html)\r\n",
    "\r\n",
    "\r\n",
    "Below include a sample usage of Cython for our earlier Juliaset problem.\r\n",
    "\r\n",
    "* juliaset.py --> will do the initialization of input lists and call the calculation part.\r\n",
    "* cythonfn.pyx --> include the CPU bound calculation part which we need to define.\r\n",
    "* setup.py --> this containes the build instructions.\r\n",
    "\r\n",
    "Then after doing the related installations and code changes we can compile the code using the below code.\r\n",
    "\r\n",
    "<center> \r\n",
    "\r\n",
    "`python setup.py build_ext --inplace`\r\n",
    "</center>\r\n",
    "<br>\r\n",
    "\r\n",
    "> **Check the `compiling related` folder for related code files.**\r\n",
    "\r\n",
    "For the juliaset code, without any code optimizations, we were able to reduce the tun time for 3.82 seconds.\r\n",
    "(Cython compiled code ran for 3.82 seconds. Regular python code ran for 5.71 seconds.)\r\n",
    "\r\n",
    "\r\n",
    "> Also if our code does not have a complex setup file, we can use `pyximport` module to do the compilation parts directly. All we have to do is install the package and modify the code slightly as follows.\r\n",
    "\r\n",
    "<br>\r\n",
    "<pre style=\"color:yellow\">\r\n",
    "    import pyximport\r\n",
    "    pyximport.install(language_level=3) \r\n",
    "    # After this line any subsequently imported .pyx file will be automatically compiled.\r\n",
    "    import cythonfn\r\n",
    "    <br>\r\n",
    "    Followed by the usual code...\r\n",
    "</pre>\r\n",
    "\r\n",
    "This also provides the same performance improvement as before and we are not required to write a setup.py file manually.\r\n",
    "\r\n",
    "We can check how our code block would call python rather than C using `cython -a file_name.pyx`. This generates an annotated HTML file with the code segments like below.\r\n",
    "\r\n",
    "<center><image src=\"./img/13.jpg\" width=\"700\"/></center>\r\n",
    "\r\n",
    "In the above annotated HTML, more yellow mean more interaction with python. Therefore we should try to reduce that as much as possible in relavent parts."
   ],
   "metadata": {}
  },
  {
   "cell_type": "code",
   "execution_count": null,
   "source": [],
   "outputs": [],
   "metadata": {}
  },
  {
   "cell_type": "code",
   "execution_count": null,
   "source": [],
   "outputs": [],
   "metadata": {}
  },
  {
   "cell_type": "code",
   "execution_count": null,
   "source": [],
   "outputs": [],
   "metadata": {}
  },
  {
   "cell_type": "code",
   "execution_count": null,
   "source": [],
   "outputs": [],
   "metadata": {}
  },
  {
   "cell_type": "code",
   "execution_count": null,
   "source": [],
   "outputs": [],
   "metadata": {}
  },
  {
   "cell_type": "code",
   "execution_count": null,
   "source": [],
   "outputs": [],
   "metadata": {}
  },
  {
   "cell_type": "code",
   "execution_count": null,
   "source": [],
   "outputs": [],
   "metadata": {}
  },
  {
   "cell_type": "code",
   "execution_count": null,
   "source": [],
   "outputs": [],
   "metadata": {}
  },
  {
   "cell_type": "code",
   "execution_count": null,
   "source": [],
   "outputs": [],
   "metadata": {}
  },
  {
   "cell_type": "code",
   "execution_count": null,
   "source": [],
   "outputs": [],
   "metadata": {}
  },
  {
   "cell_type": "code",
   "execution_count": null,
   "source": [],
   "outputs": [],
   "metadata": {}
  }
 ],
 "metadata": {
  "orig_nbformat": 4,
  "language_info": {
   "name": "python",
   "version": "3.9.7",
   "mimetype": "text/x-python",
   "codemirror_mode": {
    "name": "ipython",
    "version": 3
   },
   "pygments_lexer": "ipython3",
   "nbconvert_exporter": "python",
   "file_extension": ".py"
  },
  "kernelspec": {
   "name": "python3",
   "display_name": "Python 3.9.7 64-bit"
  },
  "interpreter": {
   "hash": "f1058ac39a4b5cc6a2d664bf07a90cc7a0b869b1d28e3e4a0289bda448411850"
  }
 },
 "nbformat": 4,
 "nbformat_minor": 2
}