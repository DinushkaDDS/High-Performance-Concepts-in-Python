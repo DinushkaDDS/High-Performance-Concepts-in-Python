{
 "cells": [
  {
   "cell_type": "markdown",
   "source": [
    "# Why Profiling is needed?"
   ],
   "metadata": {}
  },
  {
   "cell_type": "markdown",
   "source": [
    "Profiling is important to understand which parts of program consume most of the resources. This helps to improve the slow executing code segments to perform better or to focus on finding alternatives. Not only CPU, but also memory(RAM), disk usage(Disk I/O), network operations etc. also can be measured to determine bottlenecks of a program."
   ],
   "metadata": {}
  },
  {
   "cell_type": "markdown",
   "source": [
    "The basic method of identifying the bottlenecks is understanding the time consumption of the program sections. In jupyter notebook we can use `%%timeit` magic, time.time() or time decorators. In order to test the mentioned techniques we will define a special function named `Julia Set` which is Heavy CPU bound and less memory consuming non linear time consuming task. More technically speaking this is a fractal function which generates a complex output image.\r\n",
    "\r\n",
    "\r\n",
    "<center><image src=\"./img/1.jpg\" width=\"200px\" /></center>\r\n",
    "\r\n",
    "The basic psuedo code for calculation is as follows. In here coordinates are imaginary numbers and max_iter is a predefined variable for the function.\r\n",
    "<pre style='color:yellow'> \r\n",
    "coordinates = []\r\n",
    "\r\n",
    "for z in coordinates:\r\n",
    "    for _ in range(max_iter):\r\n",
    "        \r\n",
    "        if (abs(z)< thres):\r\n",
    "            z = z*z + c\r\n",
    "        else:\r\n",
    "            break\r\n",
    "</pre>\r\n",
    "\r\n",
    "But for the sake of testing various scenarios following imlpementation has few other parts added to it."
   ],
   "metadata": {}
  },
  {
   "cell_type": "code",
   "execution_count": 1,
   "source": [
    "import time\r\n",
    "import cv2\r\n",
    "\r\n",
    "# area of imaginary space to calculate pixel values\r\n",
    "x1, x2, y1, y2 = -1.8, 1.8, -1.8, 1.8\r\n",
    "c_real, c_img = -0.62772, -.42193"
   ],
   "outputs": [],
   "metadata": {}
  },
  {
   "cell_type": "code",
   "execution_count": 64,
   "source": [
    "def display_img(arr):\r\n",
    "    '''\r\n",
    "    Function to display the generated output as an image.\r\n",
    "    '''\r\n",
    "    import numpy as np\r\n",
    "    arr = arr.reshape((int(len(arr)**0.5), int(len(arr)**0.5)), order='C')\r\n",
    "\r\n",
    "    arr = np.array(arr, dtype=np.uint8)\r\n",
    "    cv2.imshow(\"Julia set\", arr)\r\n",
    "    cv2.waitKey(0)\r\n",
    "    cv2.destroyAllWindows()"
   ],
   "outputs": [],
   "metadata": {}
  },
  {
   "cell_type": "code",
   "execution_count": 50,
   "source": [
    "def calculate_juliaset_serial(maxiter, zs, cs):\r\n",
    "    \"\"\"Calculate output list using Julia update rule\"\"\"\r\n",
    "    output = [0] * len(zs)\r\n",
    "    for i in range(len(zs)):\r\n",
    "        n = 0\r\n",
    "        z = zs[i]\r\n",
    "        c = cs[i]\r\n",
    "        while abs(z) < 2 and n < maxiter:\r\n",
    "            z = z * z + c\r\n",
    "            n += 1\r\n",
    "        output[i] = n\r\n",
    "    return output"
   ],
   "outputs": [],
   "metadata": {}
  },
  {
   "cell_type": "code",
   "execution_count": 51,
   "source": [
    "def calc_juliaset_time(desired_width, max_iterations):\r\n",
    "    \"\"\"Create a list of complex coordinates (zs) and complex parameters (cs), to build Julia set\"\"\"\r\n",
    "\r\n",
    "    x_step = (x2 - x1) / desired_width\r\n",
    "    y_step = (y1 - y2) / desired_width\r\n",
    "\r\n",
    "    x = []\r\n",
    "    y = []\r\n",
    "\r\n",
    "    ycoord = y2\r\n",
    "    while ycoord > y1:\r\n",
    "        y.append(ycoord)\r\n",
    "        ycoord += y_step\r\n",
    "    \r\n",
    "    xcoord = x1\r\n",
    "    while xcoord < x2:\r\n",
    "        x.append(xcoord)\r\n",
    "        xcoord += x_step\r\n",
    "\r\n",
    "    zs = []\r\n",
    "    cs = []\r\n",
    "    for ycoord in y:\r\n",
    "        for xcoord in x:\r\n",
    "            zs.append(complex(xcoord, ycoord))\r\n",
    "            cs.append(complex(c_real, c_img))\r\n",
    "    \r\n",
    "    print(\"Length of x:\", len(x))\r\n",
    "    print(\"Total elements:\", len(zs))\r\n",
    "\r\n",
    "    start_time = time.time()\r\n",
    "    output = calculate_juliaset_serial(max_iterations, zs, cs)\r\n",
    "    end_time = time.time()\r\n",
    "\r\n",
    "    secs = end_time - start_time\r\n",
    "    print(calculate_juliaset_serial.__name__ + \" took\", secs, \"seconds\")\r\n",
    "\r\n",
    "    return output"
   ],
   "outputs": [],
   "metadata": {}
  },
  {
   "cell_type": "code",
   "execution_count": 53,
   "source": [
    "# reasonable defaults for a laptop\r\n",
    "val = calc_juliaset_time(desired_width=1000, max_iterations=300)\r\n",
    "display_img(val)"
   ],
   "outputs": [
    {
     "output_type": "stream",
     "name": "stdout",
     "text": [
      "Length of x: 1000\n",
      "Total elements: 1000000\n",
      "calculate_juliaset_serial took 6.129579544067383 seconds\n"
     ]
    }
   ],
   "metadata": {}
  },
  {
   "cell_type": "markdown",
   "source": [
    "As above we can use the julia set to as a baseline task to check the performance. In the above case we have used the good old print statement with time difference to measure the performance. But this time change with the other processes running in the computer. Also print statements like above causes inconvienience in the long run. Instead we can use a decorator to measure time and print. (Or in Jupyter notebooks magic functions :D )"
   ],
   "metadata": {}
  },
  {
   "cell_type": "code",
   "execution_count": 63,
   "source": [],
   "outputs": [],
   "metadata": {}
  },
  {
   "cell_type": "code",
   "execution_count": null,
   "source": [],
   "outputs": [],
   "metadata": {}
  }
 ],
 "metadata": {
  "orig_nbformat": 4,
  "language_info": {
   "name": "python",
   "version": "3.9.7",
   "mimetype": "text/x-python",
   "codemirror_mode": {
    "name": "ipython",
    "version": 3
   },
   "pygments_lexer": "ipython3",
   "nbconvert_exporter": "python",
   "file_extension": ".py"
  },
  "kernelspec": {
   "name": "python3",
   "display_name": "Python 3.9.7 64-bit"
  },
  "interpreter": {
   "hash": "f1058ac39a4b5cc6a2d664bf07a90cc7a0b869b1d28e3e4a0289bda448411850"
  }
 },
 "nbformat": 4,
 "nbformat_minor": 2
}