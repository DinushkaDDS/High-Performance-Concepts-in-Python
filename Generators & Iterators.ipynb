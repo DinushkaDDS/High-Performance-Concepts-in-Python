{
 "cells": [
  {
   "cell_type": "markdown",
   "source": [
    "# __Python Generators & Iterators - Usecases__\r\n",
    "\r\n",
    "In python, generators are special type of functions which do lazy evaluation of its process and returns items. These functions can be used to effiently write code while maintaining its readability.\r\n",
    "\r\n",
    "For example check below."
   ],
   "metadata": {}
  },
  {
   "cell_type": "code",
   "execution_count": 14,
   "source": [
    "def  fibonacci_list(num_items):\r\n",
    "\r\n",
    "    a = 0\r\n",
    "    b = 1\r\n",
    "    \r\n",
    "    output = []\r\n",
    "    while num_items:\r\n",
    "        output.append(a)\r\n",
    "\r\n",
    "        temp = a\r\n",
    "        a = b\r\n",
    "        b = b + temp\r\n",
    "        # above 3 lines are equivalent to `a, b = b, b + a`\r\n",
    "\r\n",
    "        num_items -= 1\r\n",
    "    \r\n",
    "    return output\r\n",
    "\r\n",
    "def fibonacci_gen(num_items):\r\n",
    "\r\n",
    "    a = 0\r\n",
    "    b = 1\r\n",
    "\r\n",
    "    while num_items:\r\n",
    "        yield a\r\n",
    "        a, b = b, b + a\r\n",
    "        num_items -= 1\r\n"
   ],
   "outputs": [],
   "metadata": {}
  },
  {
   "cell_type": "code",
   "execution_count": 15,
   "source": [
    "fibonacci_list(5)"
   ],
   "outputs": [
    {
     "output_type": "execute_result",
     "data": {
      "text/plain": [
       "[0, 1, 1, 2, 3]"
      ]
     },
     "metadata": {},
     "execution_count": 15
    }
   ],
   "metadata": {}
  },
  {
   "cell_type": "code",
   "execution_count": 27,
   "source": [
    "gen = fibonacci_gen(5)\r\n",
    "next(gen)"
   ],
   "outputs": [
    {
     "output_type": "execute_result",
     "data": {
      "text/plain": [
       "0"
      ]
     },
     "metadata": {},
     "execution_count": 27
    }
   ],
   "metadata": {}
  },
  {
   "cell_type": "markdown",
   "source": [
    "Things to note are that generator functions return only emit one value at a time. And when the StopInteration exception throwed, it will be stopped. Also its memory footprint is quite low compared to list based function as well.\r\n",
    "\r\n",
    "But whatever the function we used, in order to traverse through the items we created, we need to use a loop. **In python every item we use in loop statement must be able to be a iterable (implement `iter` function)**. Generators they act as iterators, so no need to implement iter to use it in a loop."
   ],
   "metadata": {}
  },
  {
   "cell_type": "code",
   "execution_count": 28,
   "source": [
    "type(fibonacci_gen(5)) ==type(iter(fibonacci_gen(5)))"
   ],
   "outputs": [
    {
     "output_type": "execute_result",
     "data": {
      "text/plain": [
       "True"
      ]
     },
     "metadata": {},
     "execution_count": 28
    }
   ],
   "metadata": {}
  },
  {
   "cell_type": "markdown",
   "source": [
    "Below is a psuedo code for a python loop decomposition.\r\n",
    "\r\n",
    "<pre style=\"color:yellow\">\r\n",
    "# Python general for loop\r\n",
    "for i in object:\r\n",
    "    do_work(i)\r\n",
    "\r\n",
    "# Above is equivalent to below\r\n",
    "object_iter = iter(object)\r\n",
    "\r\n",
    "while(True):\r\n",
    "    try:\r\n",
    "        i = next(object_iter)\r\n",
    "    except StopIteration:\r\n",
    "        break\r\n",
    "    else:\r\n",
    "        do_work(i)\r\n",
    "\r\n",
    "</pre>"
   ],
   "metadata": {}
  },
  {
   "cell_type": "code",
   "execution_count": 31,
   "source": [
    "%%timeit\r\n",
    "for i in fibonacci_gen(100000):\r\n",
    "    pass"
   ],
   "outputs": [
    {
     "output_type": "stream",
     "name": "stdout",
     "text": [
      "83.5 ms ± 1.64 ms per loop (mean ± std. dev. of 7 runs, 10 loops each)\n"
     ]
    }
   ],
   "metadata": {}
  },
  {
   "cell_type": "code",
   "execution_count": 32,
   "source": [
    "%%timeit\r\n",
    "for i in fibonacci_list(100000):\r\n",
    "    pass"
   ],
   "outputs": [
    {
     "output_type": "stream",
     "name": "stdout",
     "text": [
      "261 ms ± 10.5 ms per loop (mean ± std. dev. of 7 runs, 1 loop each)\n"
     ]
    }
   ],
   "metadata": {}
  },
  {
   "cell_type": "code",
   "execution_count": 44,
   "source": [
    "%load_ext memory_profiler"
   ],
   "outputs": [],
   "metadata": {}
  },
  {
   "cell_type": "code",
   "execution_count": 45,
   "source": [
    "%%memit\r\n",
    "for i in fibonacci_gen(100000):\r\n",
    "    pass"
   ],
   "outputs": [
    {
     "output_type": "stream",
     "name": "stdout",
     "text": [
      "peak memory: 59.06 MiB, increment: 0.34 MiB\n"
     ]
    }
   ],
   "metadata": {}
  },
  {
   "cell_type": "code",
   "execution_count": 46,
   "source": [
    "%%memit\r\n",
    "for i in fibonacci_list(100000):\r\n",
    "    pass"
   ],
   "outputs": [
    {
     "output_type": "stream",
     "name": "stdout",
     "text": [
      "peak memory: 408.54 MiB, increment: 349.48 MiB\n"
     ]
    }
   ],
   "metadata": {}
  },
  {
   "cell_type": "markdown",
   "source": [
    "As we can clearly see generator based method saves lots of time and memory depending on the amount of data and work. For an example if your code need to use the calculated values as multiple times then having a list of precomputed values are useful.\r\n",
    "\r\n",
    "Another very important usage of generators is infinite series. In normal list based functions we cant define a infinite value generation. But with usage of generators we can do that. For example below is infinite Fibonacchi series."
   ],
   "metadata": {}
  },
  {
   "cell_type": "code",
   "execution_count": 48,
   "source": [
    "def fibonacci_inf():\r\n",
    "\r\n",
    "    a , b = 0, 1\r\n",
    "    while True:\r\n",
    "        yield a\r\n",
    "        a, b = b, b + a"
   ],
   "outputs": [],
   "metadata": {}
  },
  {
   "cell_type": "markdown",
   "source": [
    "One of the main modules in python which provide support to use generators more often is `itertools`.\r\n",
    "\r\n",
    "* islice - to slice inf generators\r\n",
    "* chain - combining multiple generators\r\n",
    "* takewhile - adds condition to end a generator\r\n",
    "* cycle - make finite generator infinite by repeating it\r\n",
    "* groupby - grouping an iterable by a key.\r\n",
    "* filterfalse - filter out data which returns false according to predefined fuction.\r\n",
    "\r\n",
    "By using generators we can do memory intensive operators more efficiently due to lazy evaluation. For example we can read a very large dataset and do row level transformation with chunking without loading the full dataset to the memory."
   ],
   "metadata": {}
  },
  {
   "cell_type": "code",
   "execution_count": null,
   "source": [],
   "outputs": [],
   "metadata": {}
  }
 ],
 "metadata": {
  "orig_nbformat": 4,
  "language_info": {
   "name": "python",
   "version": "3.9.7",
   "mimetype": "text/x-python",
   "codemirror_mode": {
    "name": "ipython",
    "version": 3
   },
   "pygments_lexer": "ipython3",
   "nbconvert_exporter": "python",
   "file_extension": ".py"
  },
  "kernelspec": {
   "name": "python3",
   "display_name": "Python 3.9.7 64-bit"
  },
  "interpreter": {
   "hash": "f1058ac39a4b5cc6a2d664bf07a90cc7a0b869b1d28e3e4a0289bda448411850"
  }
 },
 "nbformat": 4,
 "nbformat_minor": 2
}