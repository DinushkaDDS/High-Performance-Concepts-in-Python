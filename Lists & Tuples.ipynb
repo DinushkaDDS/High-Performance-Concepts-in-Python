{
 "cells": [
  {
   "cell_type": "markdown",
   "source": [
    "# **Python Lists and Tuples - Possible usecases**\r\n",
    "\r\n",
    "In python language the most used data structure is list. Compared to many other programming languages, python lists are easy to use and dynamic. Tuples are not commonly used as lists, but they are essentially a type of list which are immutable (means does not allow changes ones created, unless you created a new).\r\n",
    "\r\n",
    "\r\n",
    "When we create a new list, we first allocate a block of memory which can hold addresses(pointers to actual data), its going to have. So thats how they act dynamically since list itself does not hold the data type. One another interesting fact is list data structure of python keep track of its size as well. **which is why `len` function of lists have O(1) time complexity**"
   ],
   "metadata": {}
  },
  {
   "cell_type": "code",
   "execution_count": 16,
   "source": [
    "arr_big = [int(i) for i in range(10000000)]\r\n",
    "arr_small = [int(i) for i in range(10)]"
   ],
   "outputs": [],
   "metadata": {}
  },
  {
   "cell_type": "code",
   "execution_count": 65,
   "source": [
    "from time import time\r\n",
    "from random import randint"
   ],
   "outputs": [],
   "metadata": {}
  },
  {
   "cell_type": "markdown",
   "source": [
    "Reason measuring time like below is, since len() function is fast it gets messed up with timeit magic function for some reason. Honestly not exactly sure what causes that issue. Anyway as a workaround had measure the speeds myself.\r\n",
    "\r\n",
    "[More Info regarding above](https://stackoverflow.com/questions/32248882/complexity-of-len-with-regard-to-sets-and-lists)"
   ],
   "metadata": {}
  },
  {
   "cell_type": "code",
   "execution_count": 63,
   "source": [
    "t = 0\r\n",
    "for i in range(1000000):\r\n",
    "    st = time()\r\n",
    "    x=len(arr_big)\r\n",
    "    et = time()\r\n",
    "    t += et-st\r\n",
    "\r\n",
    "print(\"Average Time:\", t/100000.0)"
   ],
   "outputs": [
    {
     "output_type": "stream",
     "name": "stdout",
     "text": [
      "Average Time: 1.1945462226867677e-06\n"
     ]
    }
   ],
   "metadata": {}
  },
  {
   "cell_type": "code",
   "execution_count": 64,
   "source": [
    "t = 0\r\n",
    "for i in range(1000000):\r\n",
    "    st = time()\r\n",
    "    x=len(arr_big)\r\n",
    "    et = time()\r\n",
    "    t += et-st\r\n",
    "\r\n",
    "print(\"Average Time:\", t/100000.0)"
   ],
   "outputs": [
    {
     "output_type": "stream",
     "name": "stdout",
     "text": [
      "Average Time: 1.1460018157958985e-06\n"
     ]
    }
   ],
   "metadata": {}
  },
  {
   "cell_type": "markdown",
   "source": [
    "As we can see average time is super fast and almost equal in both cases.\r\n",
    "\r\n",
    "Also since the data is stored as addresses we can directly locate items we know the index, which means with constant time complexity.\r\n",
    "(start index + index*size) "
   ],
   "metadata": {}
  },
  {
   "cell_type": "code",
   "execution_count": 88,
   "source": [
    "t = 0\r\n",
    "for i in range(1000000):\r\n",
    "    idx = 500000 #randint(0,len(arr_big)-1)\r\n",
    "\r\n",
    "    st = time()\r\n",
    "    x=arr_big[idx]\r\n",
    "    et = time()\r\n",
    "    \r\n",
    "    t += et-st\r\n",
    "\r\n",
    "print(\"Average Time:\", t/100000.0)"
   ],
   "outputs": [
    {
     "output_type": "stream",
     "name": "stdout",
     "text": [
      "Average Time: 8.819222450256348e-07\n"
     ]
    }
   ],
   "metadata": {}
  },
  {
   "cell_type": "code",
   "execution_count": 89,
   "source": [
    "t = 0\r\n",
    "for i in range(1000000):\r\n",
    "    idx = 5 #randint(0, len(arr_small)-1)\r\n",
    "\r\n",
    "    st = time()\r\n",
    "    x=arr_small[idx]\r\n",
    "    et = time()\r\n",
    "    \r\n",
    "    t += et-st\r\n",
    "\r\n",
    "print(\"Average Time:\", t/100000.0)"
   ],
   "outputs": [
    {
     "output_type": "stream",
     "name": "stdout",
     "text": [
      "Average Time: 7.789707183837891e-07\n"
     ]
    }
   ],
   "metadata": {}
  },
  {
   "cell_type": "markdown",
   "source": [
    "We can observe that the execution times are extreamly close to each other even though the array sizes are vastly different.( This is general C array behaviour if you ask me! Also I think array values get cached, therefore if we change the index in each iteration large array may have bit of high average excution time due to cache misses. Not sure though!) \r\n",
    "\r\n",
    "But if we dont know the index, then we need to go though the list items to check. In such cases python lists have O(n) time complexity (In fact python list index() function has this behaviour). If we need more speed than that, will need to use different data structure like dictionary.\r\n",
    "\r\n",
    "On the other hand if list is sorted, we can use binary search to search values. Python built in list Sort function uses a combination of insertion sort and merge sort alorithms which means O(nlogn) complexity."
   ],
   "metadata": {}
  },
  {
   "cell_type": "code",
   "execution_count": 157,
   "source": [
    "def binary_search(arr, val):\r\n",
    "\r\n",
    "    lidx = 0\r\n",
    "    ridx = len(arr)-1\r\n",
    "\r\n",
    "    while(True):\r\n",
    "\r\n",
    "        if(lidx > ridx):\r\n",
    "            return -1\r\n",
    "\r\n",
    "        mid = (lidx+ridx)//2\r\n",
    "\r\n",
    "        if(arr[mid] < val):\r\n",
    "            lidx = mid + 1\r\n",
    "        elif(arr[mid] > val):\r\n",
    "            ridx = mid - 1\r\n",
    "        else:\r\n",
    "            return mid\r\n"
   ],
   "outputs": [],
   "metadata": {}
  },
  {
   "cell_type": "code",
   "execution_count": 158,
   "source": [
    "arr = [i for i in range(100)]\r\n",
    "binary_search(arr, 99)"
   ],
   "outputs": [
    {
     "output_type": "execute_result",
     "data": {
      "text/plain": [
       "99"
      ]
     },
     "metadata": {},
     "execution_count": 158
    }
   ],
   "metadata": {}
  },
  {
   "cell_type": "markdown",
   "source": [
    "This is still slower than dictionary, still may be useful in some cases.\r\n",
    "\r\n",
    "Also python inbuilt bisect module helps to do additional tasks like appending, finding closest element on top of sorted array while keeping the sorted property."
   ],
   "metadata": {}
  },
  {
   "cell_type": "code",
   "execution_count": 164,
   "source": [
    "import bisect"
   ],
   "outputs": [],
   "metadata": {}
  },
  {
   "cell_type": "code",
   "execution_count": 196,
   "source": [
    "def find_closest(arr, val):\r\n",
    "    '''\r\n",
    "    Due to the way bisect_left function work (Returns where to insert the new value), \r\n",
    "    to get the closest element index we need to modify the output a bit.\r\n",
    "    '''\r\n",
    "    idx = bisect.bisect_left(arr, val)\r\n",
    "\r\n",
    "    # Possibly searched value is not available in the arr\r\n",
    "    if(idx == len(arr)):\r\n",
    "        return idx - 1\r\n",
    "    \r\n",
    "    # Searching value is already available in arr\r\n",
    "    if(arr[idx] == val):\r\n",
    "        return idx\r\n",
    "\r\n",
    "    # val is lower than the whole arr\r\n",
    "    if(idx==0):\r\n",
    "        return 0\r\n",
    "\r\n",
    "    # To check where the closest item resides (in the left or right)\r\n",
    "    if(arr[idx] - val > val - arr[idx-1]):\r\n",
    "        return idx - 1\r\n",
    "    else:\r\n",
    "        return idx"
   ],
   "outputs": [],
   "metadata": {}
  },
  {
   "cell_type": "code",
   "execution_count": 197,
   "source": [
    "arr = [14, 265, 496, 661, 683, 734, 881, 892, 973, 992]"
   ],
   "outputs": [],
   "metadata": {}
  },
  {
   "cell_type": "code",
   "execution_count": 198,
   "source": [
    "arr[find_closest(arr, -250)]"
   ],
   "outputs": [
    {
     "output_type": "execute_result",
     "data": {
      "text/plain": [
       "14"
      ]
     },
     "metadata": {},
     "execution_count": 198
    }
   ],
   "metadata": {}
  },
  {
   "cell_type": "code",
   "execution_count": 199,
   "source": [
    "arr[find_closest(arr, 500)]"
   ],
   "outputs": [
    {
     "output_type": "execute_result",
     "data": {
      "text/plain": [
       "496"
      ]
     },
     "metadata": {},
     "execution_count": 199
    }
   ],
   "metadata": {}
  },
  {
   "cell_type": "code",
   "execution_count": 200,
   "source": [
    "arr[find_closest(arr, 1100)]"
   ],
   "outputs": [
    {
     "output_type": "execute_result",
     "data": {
      "text/plain": [
       "992"
      ]
     },
     "metadata": {},
     "execution_count": 200
    }
   ],
   "metadata": {}
  },
  {
   "cell_type": "code",
   "execution_count": 201,
   "source": [
    "for i in range(10):\r\n",
    "    new_number = randint(0, 1000)\r\n",
    "    bisect.insort(arr, new_number)\r\n",
    "print(arr)"
   ],
   "outputs": [
    {
     "output_type": "stream",
     "name": "stdout",
     "text": [
      "[14, 159, 163, 174, 244, 265, 406, 429, 496, 531, 537, 661, 683, 734, 881, 892, 924, 927, 973, 992]\n"
     ]
    }
   ],
   "metadata": {}
  },
  {
   "cell_type": "markdown",
   "source": [
    "bisect insort lets us insert values to a already sorted array without violating sorted properties.\r\n",
    "\r\n",
    "So what about Tuples? what are the differences between lists and tuples?\r\n",
    "As we already know, tuples are immutable, means data cannot be changes once they are created.\r\n",
    "\r\n",
    "This means tuples are inherently created for different purpose. It is good for describing multiple properties of an object which would not change once they are created.\r\n",
    "\r\n",
    "As python lists are dynamic, we can append items on the fly. But this operation can be costly, if there are many element to move inside memory. Therefore as any dynamically memory allocated data structure, list also overallocate memory when it have to. The overallocation happen according to the following formula.\r\n",
    "\r\n",
    "**<center>M = (N >> 3) + (3 if N < 9 else 6)</center>**"
   ],
   "metadata": {}
  },
  {
   "cell_type": "code",
   "execution_count": 7,
   "source": [
    "N = 5\r\n",
    "M = (N >> 3) + (3 if N < 9 else 6)  # N bitshift by 3 and add a constant\r\n",
    "M"
   ],
   "outputs": [
    {
     "output_type": "execute_result",
     "data": {
      "text/plain": [
       "3"
      ]
     },
     "metadata": {},
     "execution_count": 7
    }
   ],
   "metadata": {}
  },
  {
   "cell_type": "markdown",
   "source": [
    "Thing to note is that, when you directly define the list with items, it does not overallocate. But if we add items to a list using append, then it causes to overallocate."
   ],
   "metadata": {}
  },
  {
   "cell_type": "code",
   "execution_count": 1,
   "source": [
    "%load_ext memory_profiler"
   ],
   "outputs": [],
   "metadata": {}
  },
  {
   "cell_type": "code",
   "execution_count": 2,
   "source": [
    "%memit x = [i*i for i in range(1000_000)]"
   ],
   "outputs": [
    {
     "output_type": "stream",
     "name": "stdout",
     "text": [
      "peak memory: 153.79 MiB, increment: 73.35 MiB\n"
     ]
    }
   ],
   "metadata": {}
  },
  {
   "cell_type": "code",
   "execution_count": 3,
   "source": [
    "%%memit\r\n",
    "a = []\r\n",
    "for i in range(1000_000):\r\n",
    "    a.append(i*i)"
   ],
   "outputs": [
    {
     "output_type": "stream",
     "name": "stdout",
     "text": [
      "peak memory: 157.78 MiB, increment: 38.20 MiB\n"
     ]
    }
   ],
   "metadata": {}
  },
  {
   "cell_type": "code",
   "execution_count": 30,
   "source": [
    "%timeit [i*i for i in range(100_000)]"
   ],
   "outputs": [
    {
     "output_type": "stream",
     "name": "stdout",
     "text": [
      "4.68 ms ± 191 µs per loop (mean ± std. dev. of 7 runs, 100 loops each)\n"
     ]
    }
   ],
   "metadata": {}
  },
  {
   "cell_type": "code",
   "execution_count": 31,
   "source": [
    "%%timeit\r\n",
    "a = []\r\n",
    "for i in range(100_000):\r\n",
    "    a.append(i*i)"
   ],
   "outputs": [
    {
     "output_type": "stream",
     "name": "stdout",
     "text": [
      "7.24 ms ± 62.8 µs per loop (mean ± std. dev. of 7 runs, 100 loops each)\n"
     ]
    }
   ],
   "metadata": {}
  },
  {
   "cell_type": "markdown",
   "source": [
    "On the otherhand for tuples, since they are static they does not over allocate. Except they directly resize to the required size. Because of such properties tuples are bit faster when creating compared to lists."
   ],
   "metadata": {}
  },
  {
   "cell_type": "code",
   "execution_count": 5,
   "source": [
    "%timeit [0,1,2,3,4,5,6,7,8,9]"
   ],
   "outputs": [
    {
     "output_type": "stream",
     "name": "stdout",
     "text": [
      "52 ns ± 0.434 ns per loop (mean ± std. dev. of 7 runs, 10,000,000 loops each)\n"
     ]
    }
   ],
   "metadata": {}
  },
  {
   "cell_type": "code",
   "execution_count": 6,
   "source": [
    "%timeit (0,1,2,3,4,5,6,7,8,9)"
   ],
   "outputs": [
    {
     "output_type": "stream",
     "name": "stdout",
     "text": [
      "6.35 ns ± 0.0361 ns per loop (mean ± std. dev. of 7 runs, 100,000,000 loops each)\n"
     ]
    }
   ],
   "metadata": {}
  },
  {
   "cell_type": "code",
   "execution_count": null,
   "source": [],
   "outputs": [],
   "metadata": {}
  },
  {
   "cell_type": "code",
   "execution_count": null,
   "source": [],
   "outputs": [],
   "metadata": {}
  },
  {
   "cell_type": "code",
   "execution_count": null,
   "source": [],
   "outputs": [],
   "metadata": {}
  }
 ],
 "metadata": {
  "orig_nbformat": 4,
  "language_info": {
   "name": "python",
   "version": "3.9.7",
   "mimetype": "text/x-python",
   "codemirror_mode": {
    "name": "ipython",
    "version": 3
   },
   "pygments_lexer": "ipython3",
   "nbconvert_exporter": "python",
   "file_extension": ".py"
  },
  "kernelspec": {
   "name": "python3",
   "display_name": "Python 3.9.7 64-bit ('High_Performance_Concepts_in_Python-45__Ubn2': virtualenv)"
  },
  "interpreter": {
   "hash": "7e345707fd4776d029d2a8a839d91a2c00b4b8e78ea36281d84f354477ba90d2"
  }
 },
 "nbformat": 4,
 "nbformat_minor": 2
}