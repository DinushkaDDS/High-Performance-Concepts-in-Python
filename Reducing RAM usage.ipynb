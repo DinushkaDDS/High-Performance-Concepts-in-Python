{
 "cells": [
  {
   "cell_type": "markdown",
   "source": [
    "# **Reducing RAM usage of Programs**\r\n",
    "\r\n",
    "All our programs consume some amount of memory. But if this memory consumption is larger than our computer memory (i.e. RAM), the program will not be able to execute. Also in general more memory usage means higher level of overhead. Therefore we should always try to reduce the memory consumption of our programs as much as possible. We can do that by several ways like using better data structures, data compression techniques, avoiding unnecessary data movements etc.\r\n",
    "\r\n",
    "For an example lets consider a list with same object in all indices vs a list with unique items in all indices and their memory cost.\r\n"
   ],
   "metadata": {}
  },
  {
   "cell_type": "code",
   "execution_count": 1,
   "source": [
    "%load_ext memory_profiler"
   ],
   "outputs": [],
   "metadata": {}
  },
  {
   "cell_type": "code",
   "execution_count": 2,
   "source": [
    "%memit [0] * int(1e8)"
   ],
   "outputs": [
    {
     "output_type": "stream",
     "name": "stdout",
     "text": [
      "peak memory: 849.66 MiB, increment: 763.10 MiB\n"
     ]
    }
   ],
   "metadata": {}
  },
  {
   "cell_type": "code",
   "execution_count": 2,
   "source": [
    "%memit [n for n in range(int(1e8))]"
   ],
   "outputs": [
    {
     "output_type": "stream",
     "name": "stdout",
     "text": [
      "peak memory: 4026.67 MiB, increment: 3940.16 MiB\n"
     ]
    }
   ],
   "metadata": {}
  },
  {
   "cell_type": "markdown",
   "source": [
    "We can see that list with unique items consume close to 4GB of memory. But if we use a different data stucture to store the same amount of data memory consumption is different."
   ],
   "metadata": {}
  },
  {
   "cell_type": "code",
   "execution_count": 3,
   "source": [
    "import array\r\n",
    "%memit array.array('l', range(int(1e8)))"
   ],
   "outputs": [
    {
     "output_type": "stream",
     "name": "stdout",
     "text": [
      "peak memory: 712.28 MiB, increment: 624.44 MiB\n"
     ]
    }
   ],
   "metadata": {}
  },
  {
   "cell_type": "markdown",
   "source": [
    "As we can see it only consume ~600MB of memory. This result emphasize the importance of using proper data structure for right purpose. You may think that then usage of arrays would be great for anything. But it is not. It have limited set of supported data types. Also the moment we derefence our data from array, python will build a new object which will cost memory. So if your program is going to deference data frequently and process no memory saving will occur.\r\n",
    "\r\n",
    "If we need array with more data type support, we can use numpy arrays. They act very simialar to the normal python arrays and provides better data type support.\r\n",
    "\r\n"
   ],
   "metadata": {}
  },
  {
   "cell_type": "code",
   "execution_count": 7,
   "source": [
    "import numpy as np\r\n",
    "%memit arr=np.ones(int(1e8), np.int8)"
   ],
   "outputs": [
    {
     "output_type": "stream",
     "name": "stdout",
     "text": [
      "peak memory: 289.00 MiB, increment: 95.37 MiB\n"
     ]
    }
   ],
   "metadata": {}
  },
  {
   "cell_type": "code",
   "execution_count": null,
   "source": [],
   "outputs": [],
   "metadata": {}
  }
 ],
 "metadata": {
  "orig_nbformat": 4,
  "language_info": {
   "name": "python",
   "version": "3.9.7",
   "mimetype": "text/x-python",
   "codemirror_mode": {
    "name": "ipython",
    "version": 3
   },
   "pygments_lexer": "ipython3",
   "nbconvert_exporter": "python",
   "file_extension": ".py"
  },
  "kernelspec": {
   "name": "python3",
   "display_name": "Python 3.9.7 64-bit ('High_Performance_Concepts_in_Python-45__Ubn2': virtualenv)"
  },
  "interpreter": {
   "hash": "7e345707fd4776d029d2a8a839d91a2c00b4b8e78ea36281d84f354477ba90d2"
  }
 },
 "nbformat": 4,
 "nbformat_minor": 2
}