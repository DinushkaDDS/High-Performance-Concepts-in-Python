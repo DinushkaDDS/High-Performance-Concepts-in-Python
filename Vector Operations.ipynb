{
 "cells": [
  {
   "cell_type": "markdown",
   "source": [
    "# **Matrix and Vector operations/calculations**\r\n",
    "\r\n",
    "Matrix/Vector operations are extremely important topic in high performance computing, because many of the large calculations are related to that. Also in fields like ML/ Data science, Image processing, Computer Graphics etc. Matrices are extremely important due to their properties.\r\n",
    "\r\n",
    "In this note book first we will define a sample such problem as running example and use it to explore techniques related to Matrix/Vector operations.\r\n"
   ],
   "metadata": {}
  },
  {
   "cell_type": "markdown",
   "source": [
    "Running Problem:- Diffusion of fluids (example for diffusion is dye in water).\r\n",
    "\r\n",
    "The one dimensional partial differential equation of diffusion is as follows.\r\n",
    "\r\n",
    "<center><image src=\"./img/5.jpg\" width=\"250\"/></center>\r\n",
    "\r\n",
    "Here, `u` is the vector representing the quatities we are diffusing. For example this could represent the dye value in the location of the fluid space. In general, this will be a 2D or 3D matrix representing an actual area or volume of fluid. `D` is a value that represents the properties of the fuild we are considering. `x`, `t` represent the direction and time respectively.\r\n",
    "\r\n",
    "Since we cant directly calculate the continuous values, we approximate above equation as follows using Eulars method.(Basically we use the differenciation limit formula for the approximation.)\r\n",
    "\r\n",
    "<center><image src=\"./img/6.jpg\" width=\"500\"/></center>\r\n",
    "\r\n",
    "Above `dt` represents the framerate(minimum time frame), `dx` represents the resolution of the image ie: smaller the dx smaller a region the matrix u cell represents. Generally we consider dx to be 1.\r\n",
    "\r\n",
    "The basic psuedo code implementation of above for 1D (one dimension) is as follows.\r\n",
    "\r\n",
    "\r\n",
    "<pre style=\"color:yellow\">\r\n",
    "\r\n",
    "# Initializing the data and conditions\r\n",
    "u = space vector of size N\r\n",
    "for i in range(N):\r\n",
    "    u[i] = 0 if water else 1 #(if theres dye)\r\n",
    "\r\n",
    "D = 1\r\n",
    "dx = 1\r\n",
    "t = 0\r\n",
    "dt = 0.0001\r\n",
    "\r\n",
    "while(True):\r\n",
    "\r\n",
    "    print(f'time: {t}')\r\n",
    "\r\n",
    "    u_next = vector of size N\r\n",
    "    for i in range(N):\r\n",
    "        u_next[i] = u[i] + D * dt * (u[(i+1)%N] + u[(i-1)%N] - 2 * u[i])\r\n",
    "\r\n",
    "\r\n",
    "    u = u_next\r\n",
    "    t = t + dt\r\n",
    "    visualize(u)\r\n",
    "\r\n",
    "</pre>\r\n",
    "\r\n",
    "In above code all the parts which include `%N` are to solve the problem of out of bound values in the vector space. (ie: [0 - dx] or [N + dx] can be out of bound). Rather than doing that we can simply make them zero or use the same value as the closest value( same as convolutional neural networks case.)\r\n",
    "\r\n",
    "Depending on the dimensions we need to consider, it is required to update the code. For example for 2D space diffision, we have 2 directions to consider for the diffusion gradient.\r\n",
    "\r\n",
    "Below is an actual implementation of the diffusion algorithm for 2D space.\r\n",
    "<center><image src=\"./img/7.jpg\" width=\"400\"/></center>"
   ],
   "metadata": {}
  },
  {
   "cell_type": "markdown",
   "source": [
    "The below will act as the initialization of data and executor for the diffusion equation."
   ],
   "metadata": {}
  },
  {
   "cell_type": "code",
   "execution_count": 1,
   "source": [
    "%%writefile scripts/run_experiment.py\r\n",
    "\r\n",
    "import time\r\n",
    "\r\n",
    "@profile\r\n",
    "def step(grid, dt, D = 1.0):\r\n",
    "\r\n",
    "    max_y, max_x = len(grid), len(grid[0])\r\n",
    "\r\n",
    "    grid_next = [[0.0]*max_x]*max_y\r\n",
    "\r\n",
    "    for i in range(max_y):\r\n",
    "        for j in range(max_x):\r\n",
    "            \r\n",
    "            y_dir_gradient2 = (grid[(i + 1) % max_y][j] + grid[(i - 1) % \\\r\n",
    "                                                    max_y][j] - 2 * grid[i][j]) \r\n",
    "            x_dir_gradient2 = (grid[i][(j + 1) % max_x] + grid[i][(j - 1) % \\\r\n",
    "                                                     max_x] - 2 * grid[i][j])\r\n",
    "\r\n",
    "            grid_next[i][j] = grid[i][j] + D * dt * (x_dir_gradient2 + y_dir_gradient2)\r\n",
    "\r\n",
    "    return grid_next\r\n",
    "\r\n",
    "def run_experiment(num_iterations, grid_shape):\r\n",
    "\r\n",
    "    # Initial grid\r\n",
    "    max_y, max_x = grid_shape\r\n",
    "\r\n",
    "    grid = [[0.0]*max_x]*max_y\r\n",
    "\r\n",
    "    # Simulating a drop of dye in the middle of our simulated region\r\n",
    "    block_low = int(grid_shape[0] * 0.4)\r\n",
    "    block_high = int(grid_shape[0] * 0.5)\r\n",
    "\r\n",
    "    for i in range(block_low, block_high):\r\n",
    "        for j in range(block_low, block_high):\r\n",
    "            grid[i][j] = 0.005\r\n",
    "\r\n",
    "    # Running the experiment\r\n",
    "    st = time.time()\r\n",
    "    for _ in range(num_iterations):\r\n",
    "        grid = step(grid, 0.1)\r\n",
    "\r\n",
    "    return time.time() - st\r\n",
    "\r\n",
    "if __name__== '__main__':\r\n",
    "    run_experiment(150, (640, 640))"
   ],
   "outputs": [
    {
     "output_type": "stream",
     "name": "stdout",
     "text": [
      "Overwriting scripts/run_experiment.py\n"
     ]
    }
   ],
   "metadata": {}
  },
  {
   "cell_type": "markdown",
   "source": [
    "The line profling output for the above code segment is as follows.\r\n",
    "\r\n",
    "<center><image src=\"./img/8.jpg\" width=\"800\"/></center>\r\n",
    "\r\n",
    "As we can see, creation of new_grid in each step function call takes a huge amount of time per hit. This is in fact unnecessary as the dimensions of the grid does not change with time, which means we can essentially declare the list once and use it throughout all the steps. So more optimized code would be like below."
   ],
   "metadata": {}
  },
  {
   "cell_type": "code",
   "execution_count": 3,
   "source": [
    "%%writefile scripts/run_experiment_segmented.py\r\n",
    "\r\n",
    "import time\r\n",
    "\r\n",
    "@profile\r\n",
    "def step(grid, dt, grid_next, D = 1.0):\r\n",
    "\r\n",
    "    max_y, max_x = len(grid), len(grid[0])\r\n",
    "\r\n",
    "    for i in range(max_y):\r\n",
    "        for j in range(max_x):\r\n",
    "            \r\n",
    "            y_dir_gradient2 = (grid[(i + 1) % max_y][j] + grid[(i - 1) % \\\r\n",
    "                                                    max_y][j] - 2 * grid[i][j]) \r\n",
    "            x_dir_gradient2 = (grid[i][(j + 1) % max_x] + grid[i][(j - 1) % \\\r\n",
    "                                                     max_x] - 2 * grid[i][j])\r\n",
    "\r\n",
    "            grid_next[i][j] = grid[i][j] + D * dt * (x_dir_gradient2 + y_dir_gradient2)\r\n",
    "\r\n",
    "\r\n",
    "def run_experiment(num_iterations, grid_shape):\r\n",
    "\r\n",
    "    # Initial grid\r\n",
    "    max_y, max_x = grid_shape\r\n",
    "\r\n",
    "    grid = [[0.0]*max_x]*max_y\r\n",
    "\r\n",
    "    # Simulating a drop of dye in the middle of our simulated region\r\n",
    "    block_low = int(grid_shape[0] * 0.4)\r\n",
    "    block_high = int(grid_shape[0] * 0.5)\r\n",
    "\r\n",
    "    for i in range(block_low, block_high):\r\n",
    "        for j in range(block_low, block_high):\r\n",
    "            grid[i][j] = 0.005\r\n",
    "\r\n",
    "\r\n",
    "    # Predefining the next grid\r\n",
    "    grid_next = [[0.0]*max_x]*max_y\r\n",
    "\r\n",
    "    # Running the experiment\r\n",
    "    st = time.time()\r\n",
    "    for _ in range(num_iterations):\r\n",
    "        step(grid, 0.1, grid_next)\r\n",
    "\r\n",
    "        # Swapping the variables because values inside grid does not matter for next iteration\r\n",
    "        grid, grid_next = grid_next, grid\r\n",
    "\r\n",
    "    return time.time() - st\r\n",
    "\r\n",
    "if __name__== '__main__':\r\n",
    "    run_experiment(150, (640, 640))"
   ],
   "outputs": [
    {
     "output_type": "stream",
     "name": "stdout",
     "text": [
      "Overwriting scripts/run_experiment_segmented.py\n"
     ]
    }
   ],
   "metadata": {}
  },
  {
   "cell_type": "code",
   "execution_count": null,
   "source": [],
   "outputs": [],
   "metadata": {}
  },
  {
   "cell_type": "code",
   "execution_count": null,
   "source": [],
   "outputs": [],
   "metadata": {}
  },
  {
   "cell_type": "code",
   "execution_count": null,
   "source": [],
   "outputs": [],
   "metadata": {}
  },
  {
   "cell_type": "code",
   "execution_count": null,
   "source": [],
   "outputs": [],
   "metadata": {}
  },
  {
   "cell_type": "code",
   "execution_count": null,
   "source": [],
   "outputs": [],
   "metadata": {}
  }
 ],
 "metadata": {
  "orig_nbformat": 4,
  "language_info": {
   "name": "python",
   "version": "3.9.7",
   "mimetype": "text/x-python",
   "codemirror_mode": {
    "name": "ipython",
    "version": 3
   },
   "pygments_lexer": "ipython3",
   "nbconvert_exporter": "python",
   "file_extension": ".py"
  },
  "kernelspec": {
   "name": "python3",
   "display_name": "Python 3.9.7 64-bit ('High_Performance_Concepts_in_Python-45__Ubn2': virtualenv)"
  },
  "interpreter": {
   "hash": "7e345707fd4776d029d2a8a839d91a2c00b4b8e78ea36281d84f354477ba90d2"
  }
 },
 "nbformat": 4,
 "nbformat_minor": 2
}