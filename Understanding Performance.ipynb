{
 "cells": [
  {
   "cell_type": "markdown",
   "source": [
    "# Performance of a function"
   ],
   "metadata": {}
  },
  {
   "cell_type": "markdown",
   "source": [
    "## Understanding the performance of the code we write is important in many cases. It helps us to reduce costs and to do the computations faster. \r\n",
    "\r\n",
    "### Below segments include various scenarios which would cost/affect the performance of a program and some remarks regarding them."
   ],
   "metadata": {}
  },
  {
   "cell_type": "code",
   "execution_count": 4,
   "source": [
    "import math\r\n",
    "\r\n",
    "def check_prime(number):\r\n",
    "    '''\r\n",
    "    Function to check whether a number is a prime.\r\n",
    "    '''\r\n",
    "    sqrt_number = math.sqrt(number)\r\n",
    "\r\n",
    "    for i in range(2, int(sqrt_number) + 1):\r\n",
    "        if (number / i).is_integer():\r\n",
    "            return False\r\n",
    "\r\n",
    "    return True\r\n"
   ],
   "outputs": [],
   "metadata": {}
  },
  {
   "cell_type": "code",
   "execution_count": 68,
   "source": [
    "%%timeit -n 1 -r 5\r\n",
    "\r\n",
    "# check_prime(10,000,000) = False\r\n",
    "print(f\"check_prime(10,000,000) = {check_prime(10_000_000)}\")"
   ],
   "outputs": [
    {
     "output_type": "stream",
     "name": "stdout",
     "text": [
      "check_prime(10,000,000) = False\n",
      "check_prime(10,000,000) = False\n",
      "check_prime(10,000,000) = False\n",
      "check_prime(10,000,000) = False\n",
      "check_prime(10,000,000) = False\n",
      "The slowest run took 20.91 times longer than the fastest. This could mean that an intermediate result is being cached.\n",
      "41.9 µs ± 64.8 µs per loop (mean ± std. dev. of 5 runs, 1 loop each)\n"
     ]
    }
   ],
   "metadata": {}
  },
  {
   "cell_type": "code",
   "execution_count": 43,
   "source": [
    "%%timeit -n 1 -r 5\r\n",
    "\r\n",
    "# check_prime(10,000,019) = True\r\n",
    "print(f\"check_prime(10,000,019) = {check_prime(10_000_019)}\")"
   ],
   "outputs": [
    {
     "output_type": "stream",
     "name": "stdout",
     "text": [
      "check_prime(10,000,019) = True\n",
      "check_prime(10,000,019) = True\n",
      "check_prime(10,000,019) = True\n",
      "check_prime(10,000,019) = True\n",
      "check_prime(10,000,019) = True\n",
      "297 µs ± 41.9 µs per loop (mean ± std. dev. of 5 runs, 1 loop each)\n"
     ]
    }
   ],
   "metadata": {}
  },
  {
   "cell_type": "markdown",
   "source": [
    "### In the above situation instead of sending one value at a time to the CPU we can send a vector of value to CPU, which can be checked concurrently. This reduce the execution time significantly. Also using a caching wherever possible also helps to improve the performance as well."
   ],
   "metadata": {}
  },
  {
   "cell_type": "markdown",
   "source": [
    "### Since Python abstracts away lots of programming complexities of normal languages like array size defining, memory arrangement etc. it is easier to miss out several parts which would cost us in performance. For example check the below search functions."
   ],
   "metadata": {}
  },
  {
   "cell_type": "code",
   "execution_count": null,
   "source": [
    "def search_fast(haystack, needle):\r\n",
    "    for item in haystack:\r\n",
    "        if item == needle:\r\n",
    "            return True\r\n",
    "    return False\r\n",
    "\r\n",
    "\r\n",
    "def search_slow(haystack, needle):\r\n",
    "    return_value = False\r\n",
    "    for item in haystack:\r\n",
    "        if item == needle:\r\n",
    "            return_value = True\r\n",
    "    return return_value"
   ],
   "outputs": [],
   "metadata": {}
  },
  {
   "cell_type": "markdown",
   "source": [
    "### As we can obviously see, even though both have same complexity of O(n), but search_slow function has a unnessary computaions for each call eventhough the value was found therefore it is bad. In this case, if we are intelligent enough we can identify the performance related issue. But in below scenario what would be the case?"
   ],
   "metadata": {}
  },
  {
   "cell_type": "code",
   "execution_count": null,
   "source": [
    "def search_unknown1(haystack, needle):\r\n",
    "    return any((item == needle for item in haystack))\r\n",
    "\r\n",
    "def search_unknown2(haystack, needle):\r\n",
    "    return any([item == needle for item in haystack])"
   ],
   "outputs": [],
   "metadata": {}
  },
  {
   "cell_type": "markdown",
   "source": [
    "### The only difference between 2 functions is one uses a list and other uses a tuple for the iteration. What would be faster? or both perform the same? \r\n",
    "\r\n",
    "### Therefore it is important to understand the various techniques we can use in python to build more performant applications."
   ],
   "metadata": {}
  },
  {
   "cell_type": "markdown",
   "source": [],
   "metadata": {}
  }
 ],
 "metadata": {
  "orig_nbformat": 4,
  "language_info": {
   "name": "python",
   "version": "3.9.7",
   "mimetype": "text/x-python",
   "codemirror_mode": {
    "name": "ipython",
    "version": 3
   },
   "pygments_lexer": "ipython3",
   "nbconvert_exporter": "python",
   "file_extension": ".py"
  },
  "kernelspec": {
   "name": "python3",
   "display_name": "Python 3.9.7 64-bit"
  },
  "interpreter": {
   "hash": "f1058ac39a4b5cc6a2d664bf07a90cc7a0b869b1d28e3e4a0289bda448411850"
  }
 },
 "nbformat": 4,
 "nbformat_minor": 2
}