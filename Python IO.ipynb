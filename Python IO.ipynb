{
 "cells": [
  {
   "cell_type": "markdown",
   "source": [
    "# **Python I/O Operations**\r\n",
    "\r\n",
    "In today big data world, programs have bottlenecks due to I/O operations rather than due to CPU related tasks. As we know, any program which have I/O operations should wait till they are completed to process further by CPU as those operations are considerably slow.\r\n",
    "\r\n",
    "Since it is a waste to wait till I/O operations complete, we can create a mechanism (called event loop) where we request the I/O operation and then instead of waiting continue performing the operation till we get notification back from I/O operation (like in nodeJS). This is different from multithreaded programming obvously. And if you are familiar with nodejs asynchronous prorgamming this should be similar.\r\n",
    "\r\n",
    "In such asynchronous type program, event loop will basically keep track of functions that need to run as a chain. A simple example of event loop as follows.\r\n",
    "\r\n",
    "> Warning! Do not run the below segment! Infinite loop"
   ],
   "metadata": {}
  },
  {
   "cell_type": "code",
   "execution_count": 2,
   "source": [
    "from queue import Queue\r\n",
    "\r\n",
    "class EventLoop(Queue):\r\n",
    "\r\n",
    "    def start(self):\r\n",
    "        while(True):\r\n",
    "            function = self.get()\r\n",
    "            function()\r\n",
    "\r\n",
    "def do_hello():\r\n",
    "    global event_loop\r\n",
    "    print(\"Hello\")\r\n",
    "    event_loop.put(do_world())\r\n",
    "\r\n",
    "def do_world():\r\n",
    "    global event_loop\r\n",
    "    print(\"world\")\r\n",
    "    event_loop.put(do_hello())\r\n",
    "\r\n",
    "event_loop = None\r\n",
    "if __name__ == \"__Weird_Program__\":\r\n",
    "    event_loop = EventLoop()\r\n",
    "    event_loop.put(do_hello)\r\n",
    "    event_loop.start()"
   ],
   "outputs": [],
   "metadata": {}
  },
  {
   "cell_type": "markdown",
   "source": [
    "These event loops can trigger the function and continue without waiting. But when the time consuming task is completed it will trigger its next actions asynchronously.\r\n",
    "\r\n",
    "Generally speacking, there are 2 main ways eventloops can be used. `callbacks` or `futures`. (just like javascript/nodejs).\r\n",
    "\r\n",
    "Callbacks means our calling function have a special function which it should trigger after it complete its works. This causes long chains of functions dependent on each other (Callback hell). But nevertheless interesting paradigm.\r\n",
    "\r\n",
    "In futures paradigm (uses `await` and `async` keywords in python), the function returns a Future object (in javascript we call them promises) which promises a future result. In this model returned value is available from the caller's context and therefore act upon it compared to callback paradigm where result is only available to the callback context.`\r\n",
    "\r\n",
    "There are several libraries/frameworks in python which help us in above mentioned like tasks. Details about some of them are as follow.\r\n",
    "\r\n",
    "* `Gevent` is an asynchronous python library which follows future object paradigm. Therefore it can be easily used in a normal serial like program. This provides various mechanisms like semaphores, aynchronous sockets etc. to achieve concurrent work in python.\r\n",
    "* `tornado` is also an asynchronous python library mainly developed focused on web server/ clients. It supports python's await, async keywords or its own coroutine based method for concurrent works.\r\n",
    "\r\n",
    "\r\n",
    "Other than that usage of batching, queing etc can also help in improving the performance in I/O heavy applications.\r\n",
    "\r\n",
    "Example usages of above libraries are not provided as they may be bit confusing and not required to me at the moment. But if interested you can refer their details in relevant documentations."
   ],
   "metadata": {}
  },
  {
   "cell_type": "code",
   "execution_count": null,
   "source": [],
   "outputs": [],
   "metadata": {}
  },
  {
   "cell_type": "code",
   "execution_count": null,
   "source": [],
   "outputs": [],
   "metadata": {}
  },
  {
   "cell_type": "code",
   "execution_count": null,
   "source": [],
   "outputs": [],
   "metadata": {}
  },
  {
   "cell_type": "code",
   "execution_count": null,
   "source": [],
   "outputs": [],
   "metadata": {}
  },
  {
   "cell_type": "code",
   "execution_count": null,
   "source": [],
   "outputs": [],
   "metadata": {}
  },
  {
   "cell_type": "code",
   "execution_count": null,
   "source": [],
   "outputs": [],
   "metadata": {}
  }
 ],
 "metadata": {
  "orig_nbformat": 4,
  "language_info": {
   "name": "python",
   "version": "3.9.7",
   "mimetype": "text/x-python",
   "codemirror_mode": {
    "name": "ipython",
    "version": 3
   },
   "pygments_lexer": "ipython3",
   "nbconvert_exporter": "python",
   "file_extension": ".py"
  },
  "kernelspec": {
   "name": "python3",
   "display_name": "Python 3.9.7 64-bit ('High_Performance_Concepts_in_Python-45__Ubn2': virtualenv)"
  },
  "interpreter": {
   "hash": "7e345707fd4776d029d2a8a839d91a2c00b4b8e78ea36281d84f354477ba90d2"
  }
 },
 "nbformat": 4,
 "nbformat_minor": 2
}